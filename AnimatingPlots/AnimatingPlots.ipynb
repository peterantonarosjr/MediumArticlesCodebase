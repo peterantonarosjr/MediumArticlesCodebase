{
 "cells": [
  {
   "cell_type": "markdown",
   "id": "4802037e",
   "metadata": {},
   "source": [
    "# Imports"
   ]
  },
  {
   "cell_type": "code",
   "execution_count": 1,
   "id": "6ad042bf",
   "metadata": {},
   "outputs": [],
   "source": [
    "import random\n",
    "import matplotlib.pyplot as plt\n",
    "from matplotlib.animation import FuncAnimation\n",
    "import numpy as np\n",
    "#The following line fixes Jupyter Notebook Errors by showing animations in a separate window\n",
    "%matplotlib tk"
   ]
  },
  {
   "cell_type": "markdown",
   "id": "7f50560e",
   "metadata": {},
   "source": [
    "# Basic Animations"
   ]
  },
  {
   "cell_type": "code",
   "execution_count": 2,
   "id": "2eed75d3",
   "metadata": {},
   "outputs": [],
   "source": [
    "#Empty lists for X/Y data\n",
    "x = []\n",
    "y = []\n",
    "\n",
    "#Create a figure and axis to plot on\n",
    "fig, ax = plt.subplots()\n",
    "\n",
    "#We will create a function that will be called by Matplotlib's FuncAnimation\n",
    "def getAnimation(iterator):\n",
    "    newInt = random.randint(1,10)\n",
    "    #Append values to our lists\n",
    "    x.append(iterator)\n",
    "    y.append(newInt)\n",
    "    \n",
    "    #Clear previous data from the plot\n",
    "    ax.clear()\n",
    "    #Plot the lists with axis limits\n",
    "    ax.plot(x, y)\n",
    "    ax.set_xlim([0,20])\n",
    "    ax.set_ylim([0,20])\n",
    "    \n",
    "    \n",
    "#We pass FuncAnimation our getAnimation function so that it is called in a loop\n",
    "animation = FuncAnimation(fig, getAnimation, frames=20, interval=500, repeat=False)\n",
    "\n",
    "plt.show()\n",
    "    "
   ]
  },
  {
   "cell_type": "markdown",
   "id": "90cd52e4",
   "metadata": {},
   "source": [
    "# Random 3-D Walk Animation"
   ]
  },
  {
   "cell_type": "code",
   "execution_count": 3,
   "id": "7c4ea074",
   "metadata": {},
   "outputs": [],
   "source": [
    "#Empty lists for X/Y/Z data\n",
    "x = []\n",
    "y = []\n",
    "z = []\n",
    "\n",
    "#Lets start off at (10,10,10) the center of our figure with axis limits 20\n",
    "x.append(10)\n",
    "y.append(10)\n",
    "z.append(10)\n",
    "\n",
    "#Total number of steps we will take\n",
    "stepTotal = 20\n",
    "\n",
    "#Create a figure and axis to plot on (3-D)\n",
    "fig = plt.figure()\n",
    "ax = fig.add_subplot(projection=\"3d\")\n",
    "\n",
    "#We will create a function that will be called by Matplotlib's FuncAnimation\n",
    "def randomWalk(step):\n",
    "    \n",
    "    #Append values to our lists\n",
    "    x.append(random.uniform(1,10))\n",
    "    y.append(random.uniform(1,10))\n",
    "    z.append(random.uniform(1,10))\n",
    "    \n",
    "    #Clear previous data from the plot\n",
    "    ax.clear()\n",
    "    #Plot the lists with axis limits\n",
    "    ax.plot(x, y, z)\n",
    "    ax.set_xlim([0,20])\n",
    "    ax.set_ylim([0,20])\n",
    "    ax.set_zlim([0,20])\n",
    "    \n",
    "\n",
    "# Creating the Animation object\n",
    "animation = FuncAnimation(fig, randomWalk, frames=stepTotal, interval=100)\n",
    "\n",
    "plt.show()"
   ]
  },
  {
   "cell_type": "markdown",
   "id": "5bb4b2d0",
   "metadata": {},
   "source": [
    "# Fun Functions Animated"
   ]
  },
  {
   "cell_type": "code",
   "execution_count": 4,
   "id": "f8982208",
   "metadata": {},
   "outputs": [],
   "source": [
    "x = np.linspace(-10, 10, 50)\n",
    "y = np.linspace(-10, 10, 50)\n",
    "\n",
    "#Total number of steps we will take\n",
    "stepTotal = 50\n",
    "\n",
    "#Create a figure and axis to plot on (3-D)\n",
    "fig = plt.figure()\n",
    "ax = fig.add_subplot(projection=\"3d\")\n",
    "\n",
    "def f(xCoords,yCoords):\n",
    "    return np.cos(np.sqrt(xCoords ** 2 + yCoords ** 2))\n",
    "\n",
    "def getAnimation(step):\n",
    "    #We need +2 b/c meshgrid requires at least 2,2 array\n",
    "    xMesh, yMesh = np.meshgrid(x[:step+2], y[:step+2]) \n",
    "    \n",
    "    zMesh = f(xMesh, yMesh)\n",
    "    \n",
    "    #Clear previous data from the plot\n",
    "    ax.clear()\n",
    "    #Plot the lists with axis limits\n",
    "    ax.contour3D(xMesh, yMesh, zMesh, 50, cmap='binary')\n",
    "       \n",
    "# Creating the Animation object\n",
    "animation = FuncAnimation(fig, getAnimation, frames=stepTotal, interval=100, repeat=False)\n",
    "\n",
    "plt.show()"
   ]
  },
  {
   "cell_type": "code",
   "execution_count": 5,
   "id": "a5296932",
   "metadata": {},
   "outputs": [],
   "source": [
    "x = np.linspace(-10, 10, 50)\n",
    "y = np.linspace(-10, 10, 50)\n",
    "\n",
    "#Total number of steps we will take\n",
    "stepTotal = 50\n",
    "\n",
    "#Create a figure and axis to plot on (3-D)\n",
    "fig = plt.figure()\n",
    "ax = fig.add_subplot(projection=\"3d\")\n",
    "\n",
    "def f(xCoords,yCoords):\n",
    "    return xCoords**2 + yCoords**2\n",
    "\n",
    "def getAnimation(step):\n",
    "    #We need +2 b/c meshgrid requires at least 2,2 array\n",
    "    xMesh, yMesh = np.meshgrid(x[:step+2], y[:step+2]) \n",
    "    \n",
    "    zMesh = f(xMesh, yMesh)\n",
    "    \n",
    "    #Clear previous data from the plot\n",
    "    ax.clear()\n",
    "    #Plot the lists with axis limits\n",
    "    ax.contour3D(xMesh, yMesh, zMesh, 50, cmap='binary')\n",
    "       \n",
    "# Creating the Animation object\n",
    "animation = FuncAnimation(fig, getAnimation, frames=stepTotal, interval=100, repeat=False)\n",
    "\n",
    "plt.show()"
   ]
  }
 ],
 "metadata": {
  "kernelspec": {
   "display_name": "Python 3 (ipykernel)",
   "language": "python",
   "name": "python3"
  },
  "language_info": {
   "codemirror_mode": {
    "name": "ipython",
    "version": 3
   },
   "file_extension": ".py",
   "mimetype": "text/x-python",
   "name": "python",
   "nbconvert_exporter": "python",
   "pygments_lexer": "ipython3",
   "version": "3.10.9"
  }
 },
 "nbformat": 4,
 "nbformat_minor": 5
}
